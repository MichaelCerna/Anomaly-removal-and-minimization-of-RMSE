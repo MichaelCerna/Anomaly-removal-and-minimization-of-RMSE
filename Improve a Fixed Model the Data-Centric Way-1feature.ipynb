{
 "cells": [
  {
   "cell_type": "code",
   "execution_count": 69,
   "id": "b6c56225",
   "metadata": {},
   "outputs": [],
   "source": [
    "import pandas as pd\n",
    "import matplotlib.pyplot as plt\n",
    "import seaborn as sns\n",
    "from sklearn.ensemble import RandomForestRegressor\n",
    "from sklearn.metrics import mean_squared_error\n",
    "from sklearn.model_selection import KFold\n",
    "import numpy as np\n",
    "from sklearn.neighbors import LocalOutlierFactor\n",
    "from sklearn.model_selection import train_test_split\n",
    "from sklearn.ensemble import IsolationForest\n",
    "from itertools import product\n",
    "import itertools\n",
    "from scipy import stats\n",
    "from sklearn.metrics import explained_variance_score\n",
    "import statsmodels.api as sm\n",
    "\n",
    "data = pd.read_csv(r\"C:\\Users\\Superuser\\Desktop\\Datasets\\sample_submission.csv\")"
   ]
  },
  {
   "cell_type": "code",
   "execution_count": 70,
   "id": "e5b61cbe",
   "metadata": {},
   "outputs": [
    {
     "name": "stdout",
     "output_type": "stream",
     "text": [
      "<class 'pandas.core.frame.DataFrame'>\n",
      "RangeIndex: 3500 entries, 0 to 3499\n",
      "Data columns (total 37 columns):\n",
      " #   Column  Non-Null Count  Dtype  \n",
      "---  ------  --------------  -----  \n",
      " 0   id      3500 non-null   int64  \n",
      " 1   target  3500 non-null   float64\n",
      " 2   O2_1    3500 non-null   float64\n",
      " 3   O2_2    3500 non-null   float64\n",
      " 4   O2_3    3500 non-null   float64\n",
      " 5   O2_4    3500 non-null   float64\n",
      " 6   O2_5    3500 non-null   float64\n",
      " 7   O2_6    3500 non-null   float64\n",
      " 8   O2_7    3500 non-null   float64\n",
      " 9   NH4_1   3500 non-null   float64\n",
      " 10  NH4_2   3500 non-null   float64\n",
      " 11  NH4_3   3500 non-null   float64\n",
      " 12  NH4_4   3500 non-null   float64\n",
      " 13  NH4_5   3500 non-null   float64\n",
      " 14  NH4_6   3500 non-null   float64\n",
      " 15  NH4_7   3500 non-null   float64\n",
      " 16  NO2_1   3500 non-null   float64\n",
      " 17  NO2_2   3500 non-null   float64\n",
      " 18  NO2_3   3500 non-null   float64\n",
      " 19  NO2_4   3500 non-null   float64\n",
      " 20  NO2_5   3500 non-null   float64\n",
      " 21  NO2_6   3500 non-null   float64\n",
      " 22  NO2_7   3500 non-null   float64\n",
      " 23  NO3_1   3500 non-null   float64\n",
      " 24  NO3_2   3500 non-null   float64\n",
      " 25  NO3_3   3500 non-null   float64\n",
      " 26  NO3_4   3500 non-null   float64\n",
      " 27  NO3_5   3500 non-null   float64\n",
      " 28  NO3_6   3500 non-null   float64\n",
      " 29  NO3_7   3500 non-null   float64\n",
      " 30  BOD5_1  3500 non-null   float64\n",
      " 31  BOD5_2  3500 non-null   float64\n",
      " 32  BOD5_3  3500 non-null   float64\n",
      " 33  BOD5_4  3500 non-null   float64\n",
      " 34  BOD5_5  3500 non-null   float64\n",
      " 35  BOD5_6  3500 non-null   float64\n",
      " 36  BOD5_7  3500 non-null   float64\n",
      "dtypes: float64(36), int64(1)\n",
      "memory usage: 1011.8 KB\n"
     ]
    }
   ],
   "source": [
    "data.info()"
   ]
  },
  {
   "cell_type": "code",
   "execution_count": 71,
   "id": "6a9df10a",
   "metadata": {},
   "outputs": [
    {
     "data": {
      "image/png": "[encoded data removed]",
      "text/plain": [
       "<Figure size 720x432 with 1 Axes>"
      ]
     },
     "metadata": {
      "needs_background": "light"
     },
     "output_type": "display_data"
    }
   ],
   "source": [
    "plt.figure(figsize=(10, 6)) \n",
    "plt.plot(data['id'], data['target'], marker='o', linestyle='-', color='blue')\n",
    "plt.xlabel('ID')\n",
    "plt.ylabel('target')\n",
    "plt.title('Plot of ID vs. target')\n",
    "plt.grid(True)\n",
    "plt.show()\n"
   ]
  },
  {
   "cell_type": "code",
   "execution_count": 72,
   "id": "b53d4a28",
   "metadata": {},
   "outputs": [
    {
     "data": {
      "text/html": [
       "<div>\n",
       "<style scoped>\n",
       "    .dataframe tbody tr th:only-of-type {\n",
       "        vertical-align: middle;\n",
       "    }\n",
       "\n",
       "    .dataframe tbody tr th {\n",
       "        vertical-align: top;\n",
       "    }\n",
       "\n",
       "    .dataframe thead th {\n",
       "        text-align: right;\n",
       "    }\n",
       "</style>\n",
       "<table border=\"1\" class=\"dataframe\">\n",
       "  <thead>\n",
       "    <tr style=\"text-align: right;\">\n",
       "      <th></th>\n",
       "      <th>id</th>\n",
       "      <th>target</th>\n",
       "      <th>O2_1</th>\n",
       "      <th>O2_2</th>\n",
       "      <th>O2_3</th>\n",
       "      <th>O2_4</th>\n",
       "      <th>O2_5</th>\n",
       "      <th>O2_6</th>\n",
       "      <th>O2_7</th>\n",
       "      <th>NH4_1</th>\n",
       "      <th>...</th>\n",
       "      <th>NO3_5</th>\n",
       "      <th>NO3_6</th>\n",
       "      <th>NO3_7</th>\n",
       "      <th>BOD5_1</th>\n",
       "      <th>BOD5_2</th>\n",
       "      <th>BOD5_3</th>\n",
       "      <th>BOD5_4</th>\n",
       "      <th>BOD5_5</th>\n",
       "      <th>BOD5_6</th>\n",
       "      <th>BOD5_7</th>\n",
       "    </tr>\n",
       "  </thead>\n",
       "  <tbody>\n",
       "    <tr>\n",
       "      <th>316</th>\n",
       "      <td>316</td>\n",
       "      <td>40.78</td>\n",
       "      <td>40.90</td>\n",
       "      <td>40.90</td>\n",
       "      <td>9.500</td>\n",
       "      <td>6.805</td>\n",
       "      <td>5.01</td>\n",
       "      <td>8.76</td>\n",
       "      <td>6.805</td>\n",
       "      <td>0.49</td>\n",
       "      <td>...</td>\n",
       "      <td>9.805</td>\n",
       "      <td>4.53</td>\n",
       "      <td>4.42</td>\n",
       "      <td>4.8</td>\n",
       "      <td>3.500</td>\n",
       "      <td>4.650</td>\n",
       "      <td>6.025</td>\n",
       "      <td>5.070</td>\n",
       "      <td>3.850</td>\n",
       "      <td>4.14</td>\n",
       "    </tr>\n",
       "    <tr>\n",
       "      <th>451</th>\n",
       "      <td>451</td>\n",
       "      <td>65.93</td>\n",
       "      <td>40.95</td>\n",
       "      <td>65.95</td>\n",
       "      <td>9.265</td>\n",
       "      <td>6.625</td>\n",
       "      <td>5.01</td>\n",
       "      <td>8.37</td>\n",
       "      <td>6.375</td>\n",
       "      <td>0.71</td>\n",
       "      <td>...</td>\n",
       "      <td>7.795</td>\n",
       "      <td>1.73</td>\n",
       "      <td>1.78</td>\n",
       "      <td>4.1</td>\n",
       "      <td>4.645</td>\n",
       "      <td>4.725</td>\n",
       "      <td>5.725</td>\n",
       "      <td>10.645</td>\n",
       "      <td>3.025</td>\n",
       "      <td>3.80</td>\n",
       "    </tr>\n",
       "  </tbody>\n",
       "</table>\n",
       "<p>2 rows × 37 columns</p>\n",
       "</div>"
      ],
      "text/plain": [
       "      id  target   O2_1   O2_2   O2_3   O2_4  O2_5  O2_6   O2_7  NH4_1  ...  \\\n",
       "316  316   40.78  40.90  40.90  9.500  6.805  5.01  8.76  6.805   0.49  ...   \n",
       "451  451   65.93  40.95  65.95  9.265  6.625  5.01  8.37  6.375   0.71  ...   \n",
       "\n",
       "     NO3_5  NO3_6  NO3_7  BOD5_1  BOD5_2  BOD5_3  BOD5_4  BOD5_5  BOD5_6  \\\n",
       "316  9.805   4.53   4.42     4.8   3.500   4.650   6.025   5.070   3.850   \n",
       "451  7.795   1.73   1.78     4.1   4.645   4.725   5.725  10.645   3.025   \n",
       "\n",
       "     BOD5_7  \n",
       "316    4.14  \n",
       "451    3.80  \n",
       "\n",
       "[2 rows x 37 columns]"
      ]
     },
     "execution_count": 72,
     "metadata": {},
     "output_type": "execute_result"
    }
   ],
   "source": [
    "data[data['target'] > 30] "
   ]
  },
  {
   "cell_type": "markdown",
   "id": "8481cf12",
   "metadata": {},
   "source": [
    "Dropping outliers "
   ]
  },
  {
   "cell_type": "code",
   "execution_count": 73,
   "id": "00bdbf8b",
   "metadata": {},
   "outputs": [],
   "source": [
    "drops = [316 , 451]\n",
    "\n",
    "data = data.drop(drops).reset_index(drop=True)"
   ]
  },
  {
   "cell_type": "markdown",
   "id": "178b80f0",
   "metadata": {},
   "source": [
    "## Feature Selection"
   ]
  },
  {
   "cell_type": "code",
   "execution_count": 6,
   "id": "b1d2f644",
   "metadata": {},
   "outputs": [
    {
     "data": {
      "image/png": "[encoded data removed]",
      "text/plain": [
       "<Figure size 720x432 with 1 Axes>"
      ]
     },
     "metadata": {
      "needs_background": "light"
     },
     "output_type": "display_data"
    },
    {
     "name": "stdout",
     "output_type": "stream",
     "text": [
      "Top 3 Features by Importance:\n",
      "  Feature  Importance\n",
      "0    O2_1    0.708195\n",
      "1    O2_2    0.047303\n",
      "8   NH4_2    0.013306\n"
     ]
    }
   ],
   "source": [
    "X = data.drop(['target', 'id'], axis=1)\n",
    "y = data['target']\n",
    "\n",
    "X_train, X_test, y_train, y_test = train_test_split(X, y, test_size=0.2, random_state=42)\n",
    "\n",
    "model = RandomForestRegressor(n_estimators=1000, max_depth=7, random_state=42, n_jobs=-1)\n",
    "model.fit(X_train, y_train)\n",
    "\n",
    "feature_importances = model.feature_importances_\n",
    "\n",
    "importance_df = pd.DataFrame({'Feature': X_train.columns, 'Importance': feature_importances})\n",
    "\n",
    "importance_df = importance_df.sort_values(by='Importance', ascending=False)\n",
    "\n",
    "top_features = importance_df['Feature'].head(3).tolist()\n",
    "\n",
    "plt.figure(figsize=(10, 6))\n",
    "sns.barplot(x='Importance', y='Feature', data=importance_df, palette=\"Spectral\")\n",
    "plt.xlabel('Importance')\n",
    "plt.ylabel('Feature')\n",
    "plt.title('Feature Importances')\n",
    "plt.show()\n",
    "\n",
    "print(\"Top 3 Features by Importance:\")\n",
    "print(importance_df.head(3))  "
   ]
  },
  {
   "cell_type": "code",
   "execution_count": 74,
   "id": "b6eeae1c",
   "metadata": {},
   "outputs": [
    {
     "data": {
      "image/png": "[encoded data removed]",
      "text/plain": [
       "<Figure size 720x432 with 1 Axes>"
      ]
     },
     "metadata": {
      "needs_background": "light"
     },
     "output_type": "display_data"
    }
   ],
   "source": [
    "plt.figure(figsize=(10, 6)) \n",
    "plt.scatter(data['O2_1'], data['target'], marker='o', linestyle='-', color='maroon')\n",
    "plt.xlabel('O2_1')\n",
    "plt.ylabel('target')\n",
    "plt.title('Plot of target vs. O2_1')\n",
    "plt.grid(True)\n",
    "plt.show()\n"
   ]
  },
  {
   "cell_type": "code",
   "execution_count": 75,
   "id": "156ffb2d",
   "metadata": {},
   "outputs": [
    {
     "data": {
      "image/png": "[encoded data removed]",
      "text/plain": [
       "<Figure size 720x432 with 1 Axes>"
      ]
     },
     "metadata": {
      "needs_background": "light"
     },
     "output_type": "display_data"
    }
   ],
   "source": [
    "plt.figure(figsize=(10, 6)) \n",
    "plt.scatter(data['O2_2'], data['target'], marker='o', linestyle='-', color='red')\n",
    "plt.xlabel('O2_2')\n",
    "plt.ylabel('target')\n",
    "plt.title('Plot of target vs. O2_2')\n",
    "plt.grid(True)\n",
    "plt.show()\n"
   ]
  },
  {
   "cell_type": "markdown",
   "id": "2c0cddda",
   "metadata": {},
   "source": [
    "# Baseline CV score"
   ]
  },
  {
   "cell_type": "code",
   "execution_count": 77,
   "id": "73449df7",
   "metadata": {},
   "outputs": [
    {
     "name": "stdout",
     "output_type": "stream",
     "text": [
      "Experimenting with k = 5\n",
      "Mean RMSE across 5-fold cross-validation: 1.07518\n",
      "==================================================\n",
      "Experimenting with k = 10\n",
      "Mean RMSE across 10-fold cross-validation: 1.06606\n",
      "==================================================\n"
     ]
    }
   ],
   "source": [
    "X = data.drop('target', axis=1)\n",
    "y = data['target']\n",
    "\n",
    "\n",
    "k_values = [5, 10]  \n",
    "\n",
    "for k in k_values:\n",
    "    print(f\"Experimenting with k = {k}\")\n",
    "    \n",
    "    \n",
    "    rmse_scores = []\n",
    "\n",
    "    \n",
    "    kf = KFold(n_splits=k, shuffle=True, random_state=42)\n",
    "\n",
    "    for train_idx, test_idx in kf.split(X):\n",
    "        X_train, X_test = X.iloc[train_idx], X.iloc[test_idx]\n",
    "        y_train, y_test = y.iloc[train_idx], y.iloc[test_idx]\n",
    "\n",
    "        \n",
    "        model = RandomForestRegressor(n_estimators=1000, max_depth=7, n_jobs=-1, random_state=42)\n",
    "        model.fit(X_train, y_train)\n",
    "        \n",
    "        \n",
    "        y_pred = model.predict(X_test)\n",
    "        rmse = np.sqrt(mean_squared_error(y_test, y_pred))\n",
    "        rmse_scores.append(rmse)\n",
    "\n",
    "    \n",
    "    mean_rmse = np.mean(rmse_scores)\n",
    "    print(f\"Mean RMSE across {k}-fold cross-validation: {mean_rmse:.5f}\")\n",
    "    print(\"=\" * 50)  \n",
    "\n",
    "    \n",
    "\n"
   ]
  },
  {
   "cell_type": "markdown",
   "id": "0c7e882a",
   "metadata": {},
   "source": [
    "# Baseline R^2"
   ]
  },
  {
   "cell_type": "code",
   "execution_count": 78,
   "id": "8a5da533",
   "metadata": {},
   "outputs": [
    {
     "name": "stdout",
     "output_type": "stream",
     "text": [
      "Explained Variance Score: 0.56331\n"
     ]
    }
   ],
   "source": [
    "y_pred = model.predict(X_test)  \n",
    "y_true = y_test  \n",
    "explained_var_score = explained_variance_score(y_true, y_pred)\n",
    "print(f\"Explained Variance Score: {explained_var_score:.5f}\")\n"
   ]
  },
  {
   "cell_type": "code",
   "execution_count": 79,
   "id": "26e80907",
   "metadata": {},
   "outputs": [
    {
     "data": {
      "text/plain": [
       "(              O2_1\n",
       " count  3498.000000\n",
       " mean      8.198292\n",
       " std       2.939253\n",
       " min       0.000000\n",
       " 25%       7.100000\n",
       " 50%       7.880000\n",
       " 75%       9.100000\n",
       " max      46.950000,\n",
       "               O2_2\n",
       " count  3498.000000\n",
       " mean      9.266347\n",
       " std       6.730896\n",
       " min       0.000000\n",
       " 25%       7.300000\n",
       " 50%       8.300000\n",
       " 75%       8.700000\n",
       " max      55.450000)"
      ]
     },
     "execution_count": 79,
     "metadata": {},
     "output_type": "execute_result"
    }
   ],
   "source": [
    "data[['O2_1']].describe(), data[['O2_2']].describe()"
   ]
  },
  {
   "cell_type": "markdown",
   "id": "5b35f35d",
   "metadata": {},
   "source": [
    "#### Too High standard deviation "
   ]
  },
  {
   "cell_type": "markdown",
   "id": "8e62f453",
   "metadata": {},
   "source": [
    "# Normality check\n",
    "\n",
    "We will be using an RLM model that assumes data is normally distributed"
   ]
  },
  {
   "cell_type": "code",
   "execution_count": 80,
   "id": "9c3231de",
   "metadata": {},
   "outputs": [
    {
     "name": "stdout",
     "output_type": "stream",
     "text": [
      "Shapiro-Wilk test for \"target\" column:\n",
      "Stat: 0.8519030213356018\n",
      "P-value: 0.0\n",
      "\n",
      "Shapiro-Wilk test for \"O2_1\" column:\n",
      "Stat: 0.5159890651702881\n",
      "P-value: 0.0\n"
     ]
    },
    {
     "data": {
      "image/png": "[encoded data removed]",
      "text/plain": [
       "<Figure size 720x288 with 2 Axes>"
      ]
     },
     "metadata": {
      "needs_background": "light"
     },
     "output_type": "display_data"
    }
   ],
   "source": [
    "target_data = data['target']\n",
    "\n",
    "\n",
    "shapiro_stat_target, shapiro_p_target = stats.shapiro(target_data)\n",
    "print(f'Shapiro-Wilk test for \"target\" column:\\nStat: {shapiro_stat_target}\\nP-value: {shapiro_p_target}')\n",
    "\n",
    "\n",
    "plt.figure(figsize=(10, 4))\n",
    "plt.subplot(1, 2, 1)\n",
    "plt.hist(target_data, bins=30, color='skyblue', edgecolor='black')\n",
    "plt.title('Histogram of \"target\" column')\n",
    "plt.xlabel('Value')\n",
    "plt.ylabel('Frequency')\n",
    "\n",
    "\n",
    "o2_1_data = data['O2_1']\n",
    "\n",
    "\n",
    "shapiro_stat_o2_1, shapiro_p_o2_1 = stats.shapiro(o2_1_data)\n",
    "print(f'\\nShapiro-Wilk test for \"O2_1\" column:\\nStat: {shapiro_stat_o2_1}\\nP-value: {shapiro_p_o2_1}')\n",
    "\n",
    "\n",
    "plt.subplot(1, 2, 2)\n",
    "plt.hist(o2_1_data, bins=30, color='salmon', edgecolor='black')\n",
    "plt.title('Histogram of \"O2_1\" column')\n",
    "plt.xlabel('Value')\n",
    "plt.ylabel('Frequency')\n",
    "\n",
    "plt.tight_layout()\n",
    "plt.show()\n"
   ]
  },
  {
   "cell_type": "markdown",
   "id": "5f796a0e",
   "metadata": {},
   "source": [
    "Normality looks good"
   ]
  },
  {
   "cell_type": "markdown",
   "id": "3515f4dc",
   "metadata": {},
   "source": [
    "# RLM Regression\n",
    "\n",
    "Detecting and removing significant outliers from most significant feature O2_1"
   ]
  },
  {
   "cell_type": "code",
   "execution_count": 82,
   "id": "1c6ef267",
   "metadata": {},
   "outputs": [
    {
     "name": "stdout",
     "output_type": "stream",
     "text": [
      "RMSE with outliers: 1.4545370595768936\n",
      "RMSE without outliers: 0.12306903842426511\n"
     ]
    },
    {
     "data": {
      "image/png": "[encoded data removed]",
      "text/plain": [
       "<Figure size 864x432 with 2 Axes>"
      ]
     },
     "metadata": {
      "needs_background": "light"
     },
     "output_type": "display_data"
    }
   ],
   "source": [
    "X = data[['O2_1']]\n",
    "y = data['target']\n",
    "\n",
    "\n",
    "X = sm.add_constant(X)\n",
    "\n",
    "\n",
    "rlm_model = sm.RLM(y, X, M=sm.robust.norms.HuberT())\n",
    "rlm_results = rlm_model.fit()\n",
    "\n",
    "\n",
    "residuals = rlm_results.resid\n",
    "outlier_threshold = .17 * np.std(residuals)  \n",
    "outlier_indices = np.where(np.abs(residuals) > outlier_threshold)[0]\n",
    "num_outliers = len(outlier_indices)\n",
    "\n",
    "\n",
    "data_no_outliers = data.drop(index=outlier_indices).reset_index(drop=True)\n",
    "\n",
    "\n",
    "X_no_outliers = data_no_outliers[['O2_1']]\n",
    "y_no_outliers = data_no_outliers['target']\n",
    "\n",
    "\n",
    "X_no_outliers = sm.add_constant(X_no_outliers)\n",
    "\n",
    "\n",
    "rlm_model_no_outliers = sm.RLM(y_no_outliers, X_no_outliers, M=sm.robust.norms.HuberT())\n",
    "rlm_results_no_outliers = rlm_model_no_outliers.fit()\n",
    "\n",
    "\n",
    "rmse_with_outliers = np.sqrt(mean_squared_error(y, rlm_results.fittedvalues))\n",
    "rmse_no_outliers = np.sqrt(mean_squared_error(y_no_outliers, rlm_results_no_outliers.fittedvalues))\n",
    "\n",
    "\n",
    "plt.figure(figsize=(12, 6))\n",
    "plt.subplot(1, 2, 1)\n",
    "plt.scatter(X['O2_1'], y, color='blue', label='Actual (With Outliers)')\n",
    "plt.plot(X['O2_1'], rlm_results.fittedvalues, color='red', linewidth=2, label='Predicted (With Outliers)')\n",
    "plt.xlabel('O2_1')\n",
    "plt.ylabel('target')\n",
    "plt.title('RLM with Outliers')\n",
    "plt.legend()\n",
    "\n",
    "plt.subplot(1, 2, 2)\n",
    "plt.scatter(X_no_outliers['O2_1'], y_no_outliers, color='blue', label='Actual (No Outliers)')\n",
    "plt.plot(X_no_outliers['O2_1'], rlm_results_no_outliers.fittedvalues, color='green', linewidth=2, label='Predicted (No Outliers)')\n",
    "plt.xlabel('O2_1')\n",
    "plt.ylabel('target')\n",
    "plt.title('RLM without Outliers')\n",
    "plt.legend()\n",
    "\n",
    "plt.tight_layout()\n",
    "\n",
    "\n",
    "print(f'RMSE with outliers: {rmse_with_outliers}')\n",
    "print(f'RMSE without outliers: {rmse_no_outliers}')\n",
    "\n",
    "plt.show()\n"
   ]
  },
  {
   "cell_type": "markdown",
   "id": "dbfdc02f",
   "metadata": {},
   "source": [
    "### Keeping most significant feature and zeros elsewhere. \n",
    "\n",
    " Kaggle competition requires all columns to be submitted"
   ]
  },
  {
   "cell_type": "code",
   "execution_count": 83,
   "id": "4087b92a",
   "metadata": {},
   "outputs": [
    {
     "data": {
      "text/html": [
       "<div>\n",
       "<style scoped>\n",
       "    .dataframe tbody tr th:only-of-type {\n",
       "        vertical-align: middle;\n",
       "    }\n",
       "\n",
       "    .dataframe tbody tr th {\n",
       "        vertical-align: top;\n",
       "    }\n",
       "\n",
       "    .dataframe thead th {\n",
       "        text-align: right;\n",
       "    }\n",
       "</style>\n",
       "<table border=\"1\" class=\"dataframe\">\n",
       "  <thead>\n",
       "    <tr style=\"text-align: right;\">\n",
       "      <th></th>\n",
       "      <th>id</th>\n",
       "      <th>target</th>\n",
       "      <th>O2_1</th>\n",
       "      <th>O2_2</th>\n",
       "      <th>O2_3</th>\n",
       "      <th>O2_4</th>\n",
       "      <th>O2_5</th>\n",
       "      <th>O2_6</th>\n",
       "      <th>O2_7</th>\n",
       "      <th>NH4_1</th>\n",
       "      <th>...</th>\n",
       "      <th>NO3_5</th>\n",
       "      <th>NO3_6</th>\n",
       "      <th>NO3_7</th>\n",
       "      <th>BOD5_1</th>\n",
       "      <th>BOD5_2</th>\n",
       "      <th>BOD5_3</th>\n",
       "      <th>BOD5_4</th>\n",
       "      <th>BOD5_5</th>\n",
       "      <th>BOD5_6</th>\n",
       "      <th>BOD5_7</th>\n",
       "    </tr>\n",
       "  </thead>\n",
       "  <tbody>\n",
       "    <tr>\n",
       "      <th>0</th>\n",
       "      <td>0</td>\n",
       "      <td>8.39</td>\n",
       "      <td>8.700</td>\n",
       "      <td>0.0</td>\n",
       "      <td>0.0</td>\n",
       "      <td>0.0</td>\n",
       "      <td>0.0</td>\n",
       "      <td>0.0</td>\n",
       "      <td>0.0</td>\n",
       "      <td>0.0</td>\n",
       "      <td>...</td>\n",
       "      <td>0.0</td>\n",
       "      <td>0.0</td>\n",
       "      <td>0.0</td>\n",
       "      <td>0.0</td>\n",
       "      <td>0.0</td>\n",
       "      <td>0.0</td>\n",
       "      <td>0.0</td>\n",
       "      <td>0.0</td>\n",
       "      <td>0.0</td>\n",
       "      <td>0.0</td>\n",
       "    </tr>\n",
       "    <tr>\n",
       "      <th>1</th>\n",
       "      <td>0</td>\n",
       "      <td>8.12</td>\n",
       "      <td>7.500</td>\n",
       "      <td>0.0</td>\n",
       "      <td>0.0</td>\n",
       "      <td>0.0</td>\n",
       "      <td>0.0</td>\n",
       "      <td>0.0</td>\n",
       "      <td>0.0</td>\n",
       "      <td>0.0</td>\n",
       "      <td>...</td>\n",
       "      <td>0.0</td>\n",
       "      <td>0.0</td>\n",
       "      <td>0.0</td>\n",
       "      <td>0.0</td>\n",
       "      <td>0.0</td>\n",
       "      <td>0.0</td>\n",
       "      <td>0.0</td>\n",
       "      <td>0.0</td>\n",
       "      <td>0.0</td>\n",
       "      <td>0.0</td>\n",
       "    </tr>\n",
       "    <tr>\n",
       "      <th>2</th>\n",
       "      <td>0</td>\n",
       "      <td>8.12</td>\n",
       "      <td>7.500</td>\n",
       "      <td>0.0</td>\n",
       "      <td>0.0</td>\n",
       "      <td>0.0</td>\n",
       "      <td>0.0</td>\n",
       "      <td>0.0</td>\n",
       "      <td>0.0</td>\n",
       "      <td>0.0</td>\n",
       "      <td>...</td>\n",
       "      <td>0.0</td>\n",
       "      <td>0.0</td>\n",
       "      <td>0.0</td>\n",
       "      <td>0.0</td>\n",
       "      <td>0.0</td>\n",
       "      <td>0.0</td>\n",
       "      <td>0.0</td>\n",
       "      <td>0.0</td>\n",
       "      <td>0.0</td>\n",
       "      <td>0.0</td>\n",
       "    </tr>\n",
       "    <tr>\n",
       "      <th>3</th>\n",
       "      <td>0</td>\n",
       "      <td>8.60</td>\n",
       "      <td>9.100</td>\n",
       "      <td>0.0</td>\n",
       "      <td>0.0</td>\n",
       "      <td>0.0</td>\n",
       "      <td>0.0</td>\n",
       "      <td>0.0</td>\n",
       "      <td>0.0</td>\n",
       "      <td>0.0</td>\n",
       "      <td>...</td>\n",
       "      <td>0.0</td>\n",
       "      <td>0.0</td>\n",
       "      <td>0.0</td>\n",
       "      <td>0.0</td>\n",
       "      <td>0.0</td>\n",
       "      <td>0.0</td>\n",
       "      <td>0.0</td>\n",
       "      <td>0.0</td>\n",
       "      <td>0.0</td>\n",
       "      <td>0.0</td>\n",
       "    </tr>\n",
       "    <tr>\n",
       "      <th>4</th>\n",
       "      <td>0</td>\n",
       "      <td>8.09</td>\n",
       "      <td>7.100</td>\n",
       "      <td>0.0</td>\n",
       "      <td>0.0</td>\n",
       "      <td>0.0</td>\n",
       "      <td>0.0</td>\n",
       "      <td>0.0</td>\n",
       "      <td>0.0</td>\n",
       "      <td>0.0</td>\n",
       "      <td>...</td>\n",
       "      <td>0.0</td>\n",
       "      <td>0.0</td>\n",
       "      <td>0.0</td>\n",
       "      <td>0.0</td>\n",
       "      <td>0.0</td>\n",
       "      <td>0.0</td>\n",
       "      <td>0.0</td>\n",
       "      <td>0.0</td>\n",
       "      <td>0.0</td>\n",
       "      <td>0.0</td>\n",
       "    </tr>\n",
       "    <tr>\n",
       "      <th>...</th>\n",
       "      <td>...</td>\n",
       "      <td>...</td>\n",
       "      <td>...</td>\n",
       "      <td>...</td>\n",
       "      <td>...</td>\n",
       "      <td>...</td>\n",
       "      <td>...</td>\n",
       "      <td>...</td>\n",
       "      <td>...</td>\n",
       "      <td>...</td>\n",
       "      <td>...</td>\n",
       "      <td>...</td>\n",
       "      <td>...</td>\n",
       "      <td>...</td>\n",
       "      <td>...</td>\n",
       "      <td>...</td>\n",
       "      <td>...</td>\n",
       "      <td>...</td>\n",
       "      <td>...</td>\n",
       "      <td>...</td>\n",
       "      <td>...</td>\n",
       "    </tr>\n",
       "    <tr>\n",
       "      <th>646</th>\n",
       "      <td>0</td>\n",
       "      <td>8.09</td>\n",
       "      <td>7.367</td>\n",
       "      <td>0.0</td>\n",
       "      <td>0.0</td>\n",
       "      <td>0.0</td>\n",
       "      <td>0.0</td>\n",
       "      <td>0.0</td>\n",
       "      <td>0.0</td>\n",
       "      <td>0.0</td>\n",
       "      <td>...</td>\n",
       "      <td>0.0</td>\n",
       "      <td>0.0</td>\n",
       "      <td>0.0</td>\n",
       "      <td>0.0</td>\n",
       "      <td>0.0</td>\n",
       "      <td>0.0</td>\n",
       "      <td>0.0</td>\n",
       "      <td>0.0</td>\n",
       "      <td>0.0</td>\n",
       "      <td>0.0</td>\n",
       "    </tr>\n",
       "    <tr>\n",
       "      <th>647</th>\n",
       "      <td>0</td>\n",
       "      <td>8.42</td>\n",
       "      <td>8.700</td>\n",
       "      <td>0.0</td>\n",
       "      <td>0.0</td>\n",
       "      <td>0.0</td>\n",
       "      <td>0.0</td>\n",
       "      <td>0.0</td>\n",
       "      <td>0.0</td>\n",
       "      <td>0.0</td>\n",
       "      <td>...</td>\n",
       "      <td>0.0</td>\n",
       "      <td>0.0</td>\n",
       "      <td>0.0</td>\n",
       "      <td>0.0</td>\n",
       "      <td>0.0</td>\n",
       "      <td>0.0</td>\n",
       "      <td>0.0</td>\n",
       "      <td>0.0</td>\n",
       "      <td>0.0</td>\n",
       "      <td>0.0</td>\n",
       "    </tr>\n",
       "    <tr>\n",
       "      <th>648</th>\n",
       "      <td>0</td>\n",
       "      <td>7.02</td>\n",
       "      <td>5.000</td>\n",
       "      <td>0.0</td>\n",
       "      <td>0.0</td>\n",
       "      <td>0.0</td>\n",
       "      <td>0.0</td>\n",
       "      <td>0.0</td>\n",
       "      <td>0.0</td>\n",
       "      <td>0.0</td>\n",
       "      <td>...</td>\n",
       "      <td>0.0</td>\n",
       "      <td>0.0</td>\n",
       "      <td>0.0</td>\n",
       "      <td>0.0</td>\n",
       "      <td>0.0</td>\n",
       "      <td>0.0</td>\n",
       "      <td>0.0</td>\n",
       "      <td>0.0</td>\n",
       "      <td>0.0</td>\n",
       "      <td>0.0</td>\n",
       "    </tr>\n",
       "    <tr>\n",
       "      <th>649</th>\n",
       "      <td>0</td>\n",
       "      <td>8.65</td>\n",
       "      <td>8.367</td>\n",
       "      <td>0.0</td>\n",
       "      <td>0.0</td>\n",
       "      <td>0.0</td>\n",
       "      <td>0.0</td>\n",
       "      <td>0.0</td>\n",
       "      <td>0.0</td>\n",
       "      <td>0.0</td>\n",
       "      <td>...</td>\n",
       "      <td>0.0</td>\n",
       "      <td>0.0</td>\n",
       "      <td>0.0</td>\n",
       "      <td>0.0</td>\n",
       "      <td>0.0</td>\n",
       "      <td>0.0</td>\n",
       "      <td>0.0</td>\n",
       "      <td>0.0</td>\n",
       "      <td>0.0</td>\n",
       "      <td>0.0</td>\n",
       "    </tr>\n",
       "    <tr>\n",
       "      <th>650</th>\n",
       "      <td>0</td>\n",
       "      <td>8.51</td>\n",
       "      <td>8.500</td>\n",
       "      <td>0.0</td>\n",
       "      <td>0.0</td>\n",
       "      <td>0.0</td>\n",
       "      <td>0.0</td>\n",
       "      <td>0.0</td>\n",
       "      <td>0.0</td>\n",
       "      <td>0.0</td>\n",
       "      <td>...</td>\n",
       "      <td>0.0</td>\n",
       "      <td>0.0</td>\n",
       "      <td>0.0</td>\n",
       "      <td>0.0</td>\n",
       "      <td>0.0</td>\n",
       "      <td>0.0</td>\n",
       "      <td>0.0</td>\n",
       "      <td>0.0</td>\n",
       "      <td>0.0</td>\n",
       "      <td>0.0</td>\n",
       "    </tr>\n",
       "  </tbody>\n",
       "</table>\n",
       "<p>651 rows × 37 columns</p>\n",
       "</div>"
      ],
      "text/plain": [
       "     id  target   O2_1  O2_2  O2_3  O2_4  O2_5  O2_6  O2_7  NH4_1  ...  NO3_5  \\\n",
       "0     0    8.39  8.700   0.0   0.0   0.0   0.0   0.0   0.0    0.0  ...    0.0   \n",
       "1     0    8.12  7.500   0.0   0.0   0.0   0.0   0.0   0.0    0.0  ...    0.0   \n",
       "2     0    8.12  7.500   0.0   0.0   0.0   0.0   0.0   0.0    0.0  ...    0.0   \n",
       "3     0    8.60  9.100   0.0   0.0   0.0   0.0   0.0   0.0    0.0  ...    0.0   \n",
       "4     0    8.09  7.100   0.0   0.0   0.0   0.0   0.0   0.0    0.0  ...    0.0   \n",
       "..   ..     ...    ...   ...   ...   ...   ...   ...   ...    ...  ...    ...   \n",
       "646   0    8.09  7.367   0.0   0.0   0.0   0.0   0.0   0.0    0.0  ...    0.0   \n",
       "647   0    8.42  8.700   0.0   0.0   0.0   0.0   0.0   0.0    0.0  ...    0.0   \n",
       "648   0    7.02  5.000   0.0   0.0   0.0   0.0   0.0   0.0    0.0  ...    0.0   \n",
       "649   0    8.65  8.367   0.0   0.0   0.0   0.0   0.0   0.0    0.0  ...    0.0   \n",
       "650   0    8.51  8.500   0.0   0.0   0.0   0.0   0.0   0.0    0.0  ...    0.0   \n",
       "\n",
       "     NO3_6  NO3_7  BOD5_1  BOD5_2  BOD5_3  BOD5_4  BOD5_5  BOD5_6  BOD5_7  \n",
       "0      0.0    0.0     0.0     0.0     0.0     0.0     0.0     0.0     0.0  \n",
       "1      0.0    0.0     0.0     0.0     0.0     0.0     0.0     0.0     0.0  \n",
       "2      0.0    0.0     0.0     0.0     0.0     0.0     0.0     0.0     0.0  \n",
       "3      0.0    0.0     0.0     0.0     0.0     0.0     0.0     0.0     0.0  \n",
       "4      0.0    0.0     0.0     0.0     0.0     0.0     0.0     0.0     0.0  \n",
       "..     ...    ...     ...     ...     ...     ...     ...     ...     ...  \n",
       "646    0.0    0.0     0.0     0.0     0.0     0.0     0.0     0.0     0.0  \n",
       "647    0.0    0.0     0.0     0.0     0.0     0.0     0.0     0.0     0.0  \n",
       "648    0.0    0.0     0.0     0.0     0.0     0.0     0.0     0.0     0.0  \n",
       "649    0.0    0.0     0.0     0.0     0.0     0.0     0.0     0.0     0.0  \n",
       "650    0.0    0.0     0.0     0.0     0.0     0.0     0.0     0.0     0.0  \n",
       "\n",
       "[651 rows x 37 columns]"
      ]
     },
     "execution_count": 83,
     "metadata": {},
     "output_type": "execute_result"
    }
   ],
   "source": [
    "data_with_zeroes = data_no_outliers.copy()\n",
    "data_with_zeroes.iloc[:, ~data_with_zeroes.columns.isin(['target', 'O2_1'])] = 0\n",
    "data_with_zeroes"
   ]
  },
  {
   "cell_type": "markdown",
   "id": "58ef4244",
   "metadata": {},
   "source": [
    "# K-Fold after outlier removal"
   ]
  },
  {
   "cell_type": "code",
   "execution_count": 85,
   "id": "920d800e",
   "metadata": {},
   "outputs": [
    {
     "name": "stdout",
     "output_type": "stream",
     "text": [
      "Experimenting with k = 5\n",
      "Mean RMSE across 5-fold cross-validation: 0.11826\n",
      "==================================================\n"
     ]
    }
   ],
   "source": [
    "X = data_with_zeroes.drop('target', axis=1)\n",
    "y = data_with_zeroes['target']\n",
    "\n",
    "\n",
    "k_values = [5]  \n",
    "\n",
    "for k in k_values:\n",
    "    print(f\"Experimenting with k = {k}\")\n",
    "    \n",
    "    \n",
    "    rmse_scores = []\n",
    "\n",
    "    \n",
    "    kf = KFold(n_splits=k, shuffle=True, random_state=42)\n",
    "\n",
    "    for train_idx, test_idx in kf.split(X):\n",
    "        X_train, X_test = X.iloc[train_idx], X.iloc[test_idx]\n",
    "        y_train, y_test = y.iloc[train_idx], y.iloc[test_idx]\n",
    "\n",
    "        \n",
    "        model = RandomForestRegressor(n_estimators=1000, max_depth=7, n_jobs=-1, random_state=42)\n",
    "        model.fit(X_train, y_train)\n",
    "        \n",
    "        \n",
    "        y_pred = model.predict(X_test)\n",
    "        rmse = np.sqrt(mean_squared_error(y_test, y_pred))\n",
    "        rmse_scores.append(rmse)\n",
    "\n",
    "    \n",
    "    mean_rmse = np.mean(rmse_scores)\n",
    "    print(f\"Mean RMSE across {k}-fold cross-validation: {mean_rmse:.5f}\")\n",
    "    print(\"=\" * 50)  \n",
    "\n",
    "    \n",
    "\n"
   ]
  },
  {
   "cell_type": "markdown",
   "id": "18b9f244",
   "metadata": {},
   "source": [
    "Significant improvement of about 89%"
   ]
  },
  {
   "cell_type": "markdown",
   "id": "05535ab0",
   "metadata": {},
   "source": [
    "## R^2"
   ]
  },
  {
   "cell_type": "code",
   "execution_count": 86,
   "id": "6b543f88",
   "metadata": {},
   "outputs": [
    {
     "name": "stdout",
     "output_type": "stream",
     "text": [
      "Explained Variance Score: 0.94885\n"
     ]
    }
   ],
   "source": [
    "y_pred = model.predict(X_test)  \n",
    "y_true = y_test  \n",
    "explained_var_score = explained_variance_score(y_true, y_pred)\n",
    "print(f\"Explained Variance Score: {explained_var_score:.5f}\")\n"
   ]
  },
  {
   "cell_type": "code",
   "execution_count": null,
   "id": "dc9e7387",
   "metadata": {},
   "outputs": [],
   "source": []
  }
 ],
 "metadata": {
  "kernelspec": {
   "display_name": "Python 3 (ipykernel)",
   "language": "python",
   "name": "python3"
  },
  "language_info": {
   "codemirror_mode": {
    "name": "ipython",
    "version": 3
   },
   "file_extension": ".py",
   "mimetype": "text/x-python",
   "name": "python",
   "nbconvert_exporter": "python",
   "pygments_lexer": "ipython3",
   "version": "3.10.5"
  }
 },
 "nbformat": 4,
 "nbformat_minor": 5
}
